{
 "cells": [
  {
   "cell_type": "markdown",
   "id": "ec60c496",
   "metadata": {},
   "source": [
    "# Data Science Tools and Ecosystem\n"
   ]
  },
  {
   "cell_type": "markdown",
   "id": "44dfed92",
   "metadata": {},
   "source": [
    "In this notebook, Data Science Tools and Ecosystem are summarized."
   ]
  },
  {
   "cell_type": "markdown",
   "id": "596cfef6",
   "metadata": {},
   "source": [
    "### objectives:\n",
    "* list popular languages for data science\n",
    "* list commonly used libraries for data science\n",
    "* development environment open source tools for data science\n",
    "* evaluating arithmetic expressions in python\n",
    "* convert minutes to hours\n"
   ]
  },
  {
   "cell_type": "markdown",
   "id": "01a4345e",
   "metadata": {},
   "source": [
    "Some of the popular languages that data scientists use are:\n",
    "1. python\n",
    "2. R\n",
    "3. Scala"
   ]
  },
  {
   "cell_type": "markdown",
   "id": "ca46f298",
   "metadata": {},
   "source": [
    "Some of the commonly used libraries used by data scientists include:\n",
    "1. pandas\n",
    "2. numpy\n",
    "3. matplotlib"
   ]
  },
  {
   "cell_type": "markdown",
   "id": "6edc1b5d",
   "metadata": {},
   "source": [
    "|Data science tools|\n",
    "|------------------|\n",
    "|python            |\n",
    "|R                 |\n",
    "|jupyter notebook  |"
   ]
  },
  {
   "cell_type": "markdown",
   "id": "3f47d9da",
   "metadata": {},
   "source": [
    "### below are a few examples of evaluating arithmatic expressions in python"
   ]
  },
  {
   "cell_type": "code",
   "execution_count": 1,
   "id": "bae37f73",
   "metadata": {},
   "outputs": [
    {
     "data": {
      "text/plain": [
       "17"
      ]
     },
     "execution_count": 1,
     "metadata": {},
     "output_type": "execute_result"
    }
   ],
   "source": [
    "# this issimple arithmetic expression to multiply then add integers\n",
    "(3*4)+5"
   ]
  },
  {
   "cell_type": "code",
   "execution_count": 2,
   "id": "a108b5ed",
   "metadata": {},
   "outputs": [
    {
     "data": {
      "text/plain": [
       "3.3333333333333335"
      ]
     },
     "execution_count": 2,
     "metadata": {},
     "output_type": "execute_result"
    }
   ],
   "source": [
    "# this will convert 200 hours to minutes by dividing by 60\n",
    "200/60\n"
   ]
  },
  {
   "cell_type": "markdown",
   "id": "890627cc",
   "metadata": {},
   "source": [
    "## Author\n",
    "Vaishnavi kalokar"
   ]
  },
  {
   "cell_type": "code",
   "execution_count": null,
   "id": "9a328186",
   "metadata": {},
   "outputs": [],
   "source": []
  },
  {
   "cell_type": "code",
   "execution_count": null,
   "id": "782f6712",
   "metadata": {},
   "outputs": [],
   "source": []
  },
  {
   "cell_type": "code",
   "execution_count": null,
   "id": "6cd43393",
   "metadata": {},
   "outputs": [],
   "source": []
  },
  {
   "cell_type": "code",
   "execution_count": null,
   "id": "f3e630a5",
   "metadata": {},
   "outputs": [],
   "source": []
  },
  {
   "cell_type": "code",
   "execution_count": null,
   "id": "4c7df9f5",
   "metadata": {},
   "outputs": [],
   "source": []
  }
 ],
 "metadata": {
  "kernelspec": {
   "display_name": "Python 3 (ipykernel)",
   "language": "python",
   "name": "python3"
  },
  "language_info": {
   "codemirror_mode": {
    "name": "ipython",
    "version": 3
   },
   "file_extension": ".py",
   "mimetype": "text/x-python",
   "name": "python",
   "nbconvert_exporter": "python",
   "pygments_lexer": "ipython3",
   "version": "3.9.13"
  }
 },
 "nbformat": 4,
 "nbformat_minor": 5
}
